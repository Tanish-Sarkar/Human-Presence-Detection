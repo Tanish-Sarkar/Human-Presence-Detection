{
 "cells": [
  {
   "cell_type": "markdown",
   "id": "607aa53c",
   "metadata": {},
   "source": [
    "## **`Human Presence Detection Using Deep Learning`**"
   ]
  },
  {
   "cell_type": "markdown",
   "id": "7eef4365",
   "metadata": {},
   "source": [
    "### `Simple CNN Application`"
   ]
  },
  {
   "cell_type": "markdown",
   "id": "ff0b7447",
   "metadata": {},
   "source": [
    "`Importing Libraries`"
   ]
  },
  {
   "cell_type": "code",
   "execution_count": null,
   "id": "4c350ae7",
   "metadata": {},
   "outputs": [],
   "source": [
    "import os\n",
    "import numpy as np\n",
    "import matplotlib.pyplot as plt\n",
    "import seaborn as sns\n",
    "from sklearn.model_selection import train_test_split\n",
    "from sklearn.metrics import classification_report, confusion_matrix\n",
    "import tensorflow as tf\n",
    "from tensorflow.keras.models import Sequential\n",
    "from tensorflow.keras.layers import Conv2D, MaxPooling2D, Flatten, Dense, Dropout\n",
    "from tensorflow.keras.preprocessing.image import ImageDataGenerator"
   ]
  }
 ],
 "metadata": {
  "language_info": {
   "name": "python"
  }
 },
 "nbformat": 4,
 "nbformat_minor": 5
}
